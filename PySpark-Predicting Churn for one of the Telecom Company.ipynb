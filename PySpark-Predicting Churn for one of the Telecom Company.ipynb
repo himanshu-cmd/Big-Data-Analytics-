{
 "cells": [
  {
   "cell_type": "markdown",
   "metadata": {},
   "source": [
    "# Predicting Churn for one of the Telecom Company"
   ]
  },
  {
   "cell_type": "code",
   "execution_count": 1,
   "metadata": {},
   "outputs": [],
   "source": [
    "import findspark\n",
    "findspark.init()\n",
    "\n",
    "import pyspark\n",
    "\n",
    "from pyspark import SparkContext"
   ]
  },
  {
   "cell_type": "code",
   "execution_count": 2,
   "metadata": {},
   "outputs": [],
   "source": [
    "from pyspark.sql import SparkSession\n",
    "from pyspark import SparkContext\n",
    "from pyspark.sql import SQLContext\n",
    "import pandas as pd\n",
    "\n",
    "sc=SparkContext('local','e1')  # if using locally\n",
    "sql_sc=SQLContext(sc)\n",
    "\n",
    "# reading the CSV file using Pandas and then importing the Pandas DataFrame into Spark.\n",
    "\n",
    "pandas_df=pd.read_csv('G:/Big_data_homework/churn.csv')  # assuming the file contains a header \n",
    "                                        #pandas_df = pd.read_csv('file.csv', names = ['column 1','column 2']) -> if no header\n",
    "# \n",
    "df=sql_sc.createDataFrame(pandas_df)"
   ]
  },
  {
   "cell_type": "code",
   "execution_count": 3,
   "metadata": {},
   "outputs": [
    {
     "data": {
      "text/plain": [
       "[Row(state='KS', account length=128, area code=415, phone number='382-4657', international plan='no', voice mail plan='yes', number vmail messages=25, total day minutes=265.1, total day calls=110, total day charge=45.07, total eve minutes=197.4, total eve calls=99, total eve charge=16.78, total night minutes=244.7, total night calls=91, total night charge=11.01, total intl minutes=10.0, total intl calls=3, total intl charge=2.7, customer service calls=1, churn=False)]"
      ]
     },
     "execution_count": 3,
     "metadata": {},
     "output_type": "execute_result"
    }
   ],
   "source": [
    "df.head(1)"
   ]
  },
  {
   "cell_type": "code",
   "execution_count": 33,
   "metadata": {},
   "outputs": [
    {
     "name": "stdout",
     "output_type": "stream",
     "text": [
      "root\n",
      " |-- state: string (nullable = true)\n",
      " |-- account length: long (nullable = true)\n",
      " |-- area code: long (nullable = true)\n",
      " |-- phone number: string (nullable = true)\n",
      " |-- international plan: string (nullable = true)\n",
      " |-- voice mail plan: string (nullable = true)\n",
      " |-- number vmail messages: long (nullable = true)\n",
      " |-- total day minutes: double (nullable = true)\n",
      " |-- total day calls: long (nullable = true)\n",
      " |-- total day charge: double (nullable = true)\n",
      " |-- total eve minutes: double (nullable = true)\n",
      " |-- total eve calls: long (nullable = true)\n",
      " |-- total eve charge: double (nullable = true)\n",
      " |-- total night minutes: double (nullable = true)\n",
      " |-- total night calls: long (nullable = true)\n",
      " |-- total night charge: double (nullable = true)\n",
      " |-- total intl minutes: double (nullable = true)\n",
      " |-- total intl calls: long (nullable = true)\n",
      " |-- total intl charge: double (nullable = true)\n",
      " |-- customer service calls: long (nullable = true)\n",
      " |-- churn: boolean (nullable = true)\n",
      "\n"
     ]
    }
   ],
   "source": [
    "df.printSchema()"
   ]
  },
  {
   "cell_type": "code",
   "execution_count": 28,
   "metadata": {},
   "outputs": [],
   "source": [
    "from pyspark.sql.functions import col\n",
    "d1=df.withColumn('churn',pyspark.sql.functions.when(df.churn =='False',0).when(df.churn =='True',1).otherwise(''))"
   ]
  },
  {
   "cell_type": "code",
   "execution_count": 48,
   "metadata": {},
   "outputs": [],
   "source": [
    "from pyspark.sql.functions import col\n",
    "from pyspark.sql.types import *\n",
    "\n",
    "d1 = df.withColumn('churn',df['churn'].cast(IntegerType()))"
   ]
  },
  {
   "cell_type": "code",
   "execution_count": 49,
   "metadata": {},
   "outputs": [
    {
     "name": "stdout",
     "output_type": "stream",
     "text": [
      "root\n",
      " |-- state: string (nullable = true)\n",
      " |-- account length: long (nullable = true)\n",
      " |-- area code: long (nullable = true)\n",
      " |-- phone number: string (nullable = true)\n",
      " |-- international plan: string (nullable = true)\n",
      " |-- voice mail plan: string (nullable = true)\n",
      " |-- number vmail messages: long (nullable = true)\n",
      " |-- total day minutes: double (nullable = true)\n",
      " |-- total day calls: long (nullable = true)\n",
      " |-- total day charge: double (nullable = true)\n",
      " |-- total eve minutes: double (nullable = true)\n",
      " |-- total eve calls: long (nullable = true)\n",
      " |-- total eve charge: double (nullable = true)\n",
      " |-- total night minutes: double (nullable = true)\n",
      " |-- total night calls: long (nullable = true)\n",
      " |-- total night charge: double (nullable = true)\n",
      " |-- total intl minutes: double (nullable = true)\n",
      " |-- total intl calls: long (nullable = true)\n",
      " |-- total intl charge: double (nullable = true)\n",
      " |-- customer service calls: long (nullable = true)\n",
      " |-- churn: integer (nullable = true)\n",
      "\n"
     ]
    }
   ],
   "source": [
    "d1.printSchema()"
   ]
  },
  {
   "cell_type": "code",
   "execution_count": 50,
   "metadata": {},
   "outputs": [],
   "source": [
    "features1=d1.select(['account length','international plan','voice mail plan','number vmail messages','total day minutes',\n",
    "                    'total day calls','total day charge','total eve minutes','total eve calls','total eve charge',\n",
    "                    'total night minutes','total night calls','total night charge','total intl minutes','total intl calls',\n",
    "                    'total intl charge','customer service calls','churn'])"
   ]
  },
  {
   "cell_type": "code",
   "execution_count": 51,
   "metadata": {},
   "outputs": [],
   "source": [
    "from pyspark.ml.feature import VectorAssembler,VectorIndexer,OneHotEncoder,StringIndexer\n",
    "\n",
    "# check the below 3 lines\n",
    "idx1=StringIndexer(inputCol='international plan',outputCol='i1').fit(features1).transform(features1)\n",
    "idx2=StringIndexer(inputCol='voice mail plan',outputCol='i2').fit(idx1).transform(idx1)\n",
    "\n",
    "# this is correct code but wrong input\n",
    "encd1=OneHotEncoder(inputCol='i1',outputCol='int_plan')\n",
    "d2=encd1.fit(idx2).transform(idx2)\n",
    "encd2=OneHotEncoder(inputCol='i2',outputCol='vmail_plan')\n",
    "d3=encd2.fit(d2).transform(d2)"
   ]
  },
  {
   "cell_type": "code",
   "execution_count": 52,
   "metadata": {},
   "outputs": [
    {
     "data": {
      "text/plain": [
       "[Row(account length=128, international plan='no', voice mail plan='yes', number vmail messages=25, total day minutes=265.1, total day calls=110, total day charge=45.07, total eve minutes=197.4, total eve calls=99, total eve charge=16.78, total night minutes=244.7, total night calls=91, total night charge=11.01, total intl minutes=10.0, total intl calls=3, total intl charge=2.7, customer service calls=1, churn=0, i1=0.0, i2=1.0, int_plan=SparseVector(1, {0: 1.0}), vmail_plan=SparseVector(1, {})),\n",
       " Row(account length=107, international plan='no', voice mail plan='yes', number vmail messages=26, total day minutes=161.6, total day calls=123, total day charge=27.47, total eve minutes=195.5, total eve calls=103, total eve charge=16.62, total night minutes=254.4, total night calls=103, total night charge=11.45, total intl minutes=13.7, total intl calls=3, total intl charge=3.7, customer service calls=1, churn=0, i1=0.0, i2=1.0, int_plan=SparseVector(1, {0: 1.0}), vmail_plan=SparseVector(1, {})),\n",
       " Row(account length=137, international plan='no', voice mail plan='no', number vmail messages=0, total day minutes=243.4, total day calls=114, total day charge=41.38, total eve minutes=121.2, total eve calls=110, total eve charge=10.3, total night minutes=162.6, total night calls=104, total night charge=7.32, total intl minutes=12.2, total intl calls=5, total intl charge=3.29, customer service calls=0, churn=0, i1=0.0, i2=0.0, int_plan=SparseVector(1, {0: 1.0}), vmail_plan=SparseVector(1, {0: 1.0}))]"
      ]
     },
     "execution_count": 52,
     "metadata": {},
     "output_type": "execute_result"
    }
   ],
   "source": [
    "d3.head(3)"
   ]
  },
  {
   "cell_type": "code",
   "execution_count": 53,
   "metadata": {},
   "outputs": [],
   "source": [
    "assembler=VectorAssembler(inputCols=['account length','number vmail messages','total day minutes',\n",
    "                    'total day calls','total day charge','total eve minutes','total eve calls','total eve charge',\n",
    "                    'total night minutes','total night calls','total night charge','total intl minutes','total intl calls',\n",
    "                    'total intl charge','customer service calls','int_plan','vmail_plan'],outputCol='feature')"
   ]
  },
  {
   "cell_type": "code",
   "execution_count": 54,
   "metadata": {},
   "outputs": [],
   "source": [
    "from pyspark.ml.classification import LogisticRegression\n",
    "\n",
    "train_data,test_data =d3.randomSplit([0.7,.3])\n",
    "\n",
    "model=LogisticRegression(featuresCol='feature',labelCol='churn')"
   ]
  },
  {
   "cell_type": "code",
   "execution_count": 55,
   "metadata": {},
   "outputs": [],
   "source": [
    "from pyspark.ml import Pipeline\n",
    "\n",
    "pipeline = Pipeline(stages=[assembler,model])"
   ]
  },
  {
   "cell_type": "code",
   "execution_count": 56,
   "metadata": {},
   "outputs": [],
   "source": [
    "fit_model = pipeline.fit(train_data)\n",
    "results = fit_model.transform(test_data)"
   ]
  },
  {
   "cell_type": "code",
   "execution_count": 65,
   "metadata": {},
   "outputs": [
    {
     "name": "stdout",
     "output_type": "stream",
     "text": [
      "+-----+----------+\n",
      "|churn|prediction|\n",
      "+-----+----------+\n",
      "|    0|       0.0|\n",
      "|    1|       0.0|\n",
      "|    0|       0.0|\n",
      "|    0|       0.0|\n",
      "|    0|       0.0|\n",
      "|    0|       0.0|\n",
      "|    0|       0.0|\n",
      "|    0|       0.0|\n",
      "|    0|       0.0|\n",
      "|    0|       0.0|\n",
      "|    1|       0.0|\n",
      "|    0|       0.0|\n",
      "|    0|       0.0|\n",
      "|    1|       0.0|\n",
      "|    0|       0.0|\n",
      "|    0|       0.0|\n",
      "|    0|       0.0|\n",
      "|    0|       0.0|\n",
      "|    0|       0.0|\n",
      "|    0|       0.0|\n",
      "+-----+----------+\n",
      "only showing top 20 rows\n",
      "\n"
     ]
    }
   ],
   "source": [
    "from pyspark.ml.evaluation import BinaryClassificationEvaluator\n",
    "\n",
    "my_eval = BinaryClassificationEvaluator(rawPredictionCol='prediction',labelCol='churn')\n",
    "results.select('churn','prediction').show()"
   ]
  },
  {
   "cell_type": "code",
   "execution_count": 66,
   "metadata": {},
   "outputs": [
    {
     "data": {
      "text/plain": [
       "0.5919250645994832"
      ]
     },
     "execution_count": 66,
     "metadata": {},
     "output_type": "execute_result"
    }
   ],
   "source": [
    "AUC=my_eval.evaluate(results)\n",
    "AUC"
   ]
  },
  {
   "cell_type": "code",
   "execution_count": null,
   "metadata": {},
   "outputs": [],
   "source": []
  },
  {
   "cell_type": "code",
   "execution_count": null,
   "metadata": {},
   "outputs": [],
   "source": []
  },
  {
   "cell_type": "code",
   "execution_count": null,
   "metadata": {},
   "outputs": [],
   "source": []
  },
  {
   "cell_type": "code",
   "execution_count": null,
   "metadata": {},
   "outputs": [],
   "source": []
  },
  {
   "cell_type": "code",
   "execution_count": null,
   "metadata": {},
   "outputs": [],
   "source": []
  },
  {
   "cell_type": "code",
   "execution_count": null,
   "metadata": {},
   "outputs": [],
   "source": []
  }
 ],
 "metadata": {
  "kernelspec": {
   "display_name": "Python 3",
   "language": "python",
   "name": "python3"
  },
  "language_info": {
   "codemirror_mode": {
    "name": "ipython",
    "version": 3
   },
   "file_extension": ".py",
   "mimetype": "text/x-python",
   "name": "python",
   "nbconvert_exporter": "python",
   "pygments_lexer": "ipython3",
   "version": "3.7.7"
  }
 },
 "nbformat": 4,
 "nbformat_minor": 4
}
